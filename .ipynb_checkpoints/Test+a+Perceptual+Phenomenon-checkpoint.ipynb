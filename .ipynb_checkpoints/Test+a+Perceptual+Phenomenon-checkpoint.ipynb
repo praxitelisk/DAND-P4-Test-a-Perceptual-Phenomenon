{
 "cells": [
  {
   "cell_type": "markdown",
   "metadata": {},
   "source": [
    "# Analyzing the Stroop Effect, Praxitelis-Nikolaos Kouroupetroglou\n",
    "--------------------------\n",
    "\n",
    "## Introduction\n",
    "This project explore the Stroop Effect, The Stroop Effect is named by the John Ridley Stroop who first published the effect in English in 1935. In summary this effect explores has 2 experiments, the first one measures the time it takes for an individual to identify the name of a color (e.g., \"blue\", \"green\", or \"red\") that is printed in a color which that is denoted by its name (for example, the word \"blue\" printed in blue), and the second experiment measures the time it take for an individual to identify the name of a color that is printed in a color which is not denoted by its name (for example, the word \"blue\" printed in red and not in blue). naming the color of the word takes longer and is more prone to errors than when the color of the ink matches the name of the color [reference](https://en.wikipedia.org/wiki/Stroop_effect). \n",
    "\n",
    "This project comes with a dataset in csv format which can be found in this [link](https://docs.google.com/document/d/1-OkpZLjG_kX9J6LIQ5IltsqMzVWjh36QpnP2RYpVdPU/pub?embedded=True). The dataset contains 2 colunms which contains the time it took to a sample of people to finish the Stroop Effect test to identify to color name. The dataset has 2 columns; the first one is called \"Conguent\" which contains the time it took to each participant to identify the color names which matched to the printed text and the second one is called \"Inconguent\" which means the time it took to each participant to indentify the name of the color which did not match to the printed text [reference](https://docs.google.com/document/d/1-OkpZLjG_kX9J6LIQ5IltsqMzVWjh36QpnP2RYpVdPU/pub?embedded=True).\n",
    "\n",
    "![Congruent Words and Colors](congruent.png)\n",
    "\n",
    "![Congruent Words and Colors](incongruent.png)\n",
    "\n"
   ]
  },
  {
   "cell_type": "markdown",
   "metadata": {},
   "source": [
    "## What is the independent variable? What is the dependent variable?"
   ]
  },
  {
   "cell_type": "markdown",
   "metadata": {},
   "source": [
    "Independent variable : Word Condition (Congruent or Incongruent)\n",
    "Dependent variable : the time it takes to name the colors"
   ]
  },
  {
   "cell_type": "markdown",
   "metadata": {},
   "source": [
    "## What is an appropriate set of hypotheses for this task? What kind of statistical test do you expect to perform? Justify your choices."
   ]
  },
  {
   "cell_type": "markdown",
   "metadata": {},
   "source": [
    "**Null Hypothesis ( $H_{0}:\\mu_{1}=\\mu_{2}$)** The average time that it takes to identify a color is the same for the two groups (congruent color with word and incongruent color with word) at alpha level of ** a = 0.05 **.\n",
    "\n",
    "**Alternative Hypothesis ( $H_{1}:\\mu_{1}\\ne\\mu_{2}$)** The average time that it takes to identify a color is not same for the two groups (congruent color with word and incongruent color with word) at alpha level of ** a = 0.05 **.\n",
    "\n",
    "**Type of Statistical Test : dependent t-test (two tailed)**, It must be compared that the means of two related groups to determine the statistical significant difference between two means. we can assume normal distribution to the two groups, and it has to be two tailed because our hypothesis is testing equality of two means. Furthermore, we don't have any population parameters, thus a z-test would not fit to examine this phenomenon."
   ]
  },
  {
   "cell_type": "markdown",
   "metadata": {},
   "source": [
    "## Exploring the dataset\n",
    "Lets begin exploring the 2 groups:"
   ]
  },
  {
   "cell_type": "code",
   "execution_count": 93,
   "metadata": {},
   "outputs": [],
   "source": [
    "#import libraries\n",
    "import pandas as pd\n",
    "import seaborn as sns\n",
    "import numpy as np\n",
    "%matplotlib inline"
   ]
  },
  {
   "cell_type": "code",
   "execution_count": 81,
   "metadata": {},
   "outputs": [
    {
     "name": "stdout",
     "output_type": "stream",
     "text": [
      "   Congruent  Incongruent\n",
      "0     12.079       19.278\n",
      "1     16.791       18.741\n",
      "2      9.564       21.214\n",
      "3      8.630       15.687\n",
      "4     14.669       22.803\n",
      "5     12.238       20.878\n",
      "6     14.692       24.572\n"
     ]
    },
    {
     "data": {
      "text/html": [
       "<div>\n",
       "<style scoped>\n",
       "    .dataframe tbody tr th:only-of-type {\n",
       "        vertical-align: middle;\n",
       "    }\n",
       "\n",
       "    .dataframe tbody tr th {\n",
       "        vertical-align: top;\n",
       "    }\n",
       "\n",
       "    .dataframe thead th {\n",
       "        text-align: right;\n",
       "    }\n",
       "</style>\n",
       "<table border=\"1\" class=\"dataframe\">\n",
       "  <thead>\n",
       "    <tr style=\"text-align: right;\">\n",
       "      <th></th>\n",
       "      <th>Congruent</th>\n",
       "      <th>Incongruent</th>\n",
       "    </tr>\n",
       "  </thead>\n",
       "  <tbody>\n",
       "    <tr>\n",
       "      <th>count</th>\n",
       "      <td>24.000000</td>\n",
       "      <td>24.000000</td>\n",
       "    </tr>\n",
       "    <tr>\n",
       "      <th>mean</th>\n",
       "      <td>14.051125</td>\n",
       "      <td>22.015917</td>\n",
       "    </tr>\n",
       "    <tr>\n",
       "      <th>std</th>\n",
       "      <td>3.559358</td>\n",
       "      <td>4.797057</td>\n",
       "    </tr>\n",
       "    <tr>\n",
       "      <th>min</th>\n",
       "      <td>8.630000</td>\n",
       "      <td>15.687000</td>\n",
       "    </tr>\n",
       "    <tr>\n",
       "      <th>25%</th>\n",
       "      <td>11.895250</td>\n",
       "      <td>18.716750</td>\n",
       "    </tr>\n",
       "    <tr>\n",
       "      <th>50%</th>\n",
       "      <td>14.356500</td>\n",
       "      <td>21.017500</td>\n",
       "    </tr>\n",
       "    <tr>\n",
       "      <th>75%</th>\n",
       "      <td>16.200750</td>\n",
       "      <td>24.051500</td>\n",
       "    </tr>\n",
       "    <tr>\n",
       "      <th>max</th>\n",
       "      <td>22.328000</td>\n",
       "      <td>35.255000</td>\n",
       "    </tr>\n",
       "  </tbody>\n",
       "</table>\n",
       "</div>"
      ],
      "text/plain": [
       "       Congruent  Incongruent\n",
       "count  24.000000    24.000000\n",
       "mean   14.051125    22.015917\n",
       "std     3.559358     4.797057\n",
       "min     8.630000    15.687000\n",
       "25%    11.895250    18.716750\n",
       "50%    14.356500    21.017500\n",
       "75%    16.200750    24.051500\n",
       "max    22.328000    35.255000"
      ]
     },
     "execution_count": 81,
     "metadata": {},
     "output_type": "execute_result"
    }
   ],
   "source": [
    "# read csv file and save to df\n",
    "df = pd.read_csv('stroopdata.csv')\n",
    "\n",
    "# csv head \n",
    "print(df.head(7))\n",
    "\n",
    "# csv summary\n",
    "df.describe()"
   ]
  },
  {
   "cell_type": "markdown",
   "metadata": {},
   "source": [
    "At first glance, the 2 experiments so some differences, the experiment for congruent color and text has mean value equal to 14.05 and the other one has 22.01 which differ more than the other. In general the second experiment (Incongruent) declines from the first one (Congruent), as we can see the standard deviation, the 1st quantile, the 3rd quantile, min and max are larger than the first group."
   ]
  },
  {
   "cell_type": "markdown",
   "metadata": {},
   "source": [
    "## Univariate Plots\n",
    "Lets plot the histogram of the 2 groups"
   ]
  },
  {
   "cell_type": "markdown",
   "metadata": {},
   "source": [
    "### Congruent Experiment Histogram:"
   ]
  },
  {
   "cell_type": "code",
   "execution_count": 191,
   "metadata": {},
   "outputs": [
    {
     "data": {
      "text/plain": [
       "Text(0.5,1,'Congruent Histogram')"
      ]
     },
     "execution_count": 191,
     "metadata": {},
     "output_type": "execute_result"
    },
    {
     "data": {
      "image/png": "[encoded data removed]",
      "text/plain": [
       "<matplotlib.figure.Figure at 0x161f2b051d0>"
      ]
     },
     "metadata": {},
     "output_type": "display_data"
    }
   ],
   "source": [
    "# Congruent colors and words histogram\n",
    "fig, ax = plt.subplots()\n",
    "sns.distplot(df['Congruent'], color=\"blue\", kde=False)\n",
    "ax.set_xlabel(\"time\")\n",
    "ax.set_ylabel(\"count\")\n",
    "ax.set_title(\"Congruent Histogram\")"
   ]
  },
  {
   "cell_type": "markdown",
   "metadata": {},
   "source": [
    "### Incongruent Experiment Histogram:"
   ]
  },
  {
   "cell_type": "code",
   "execution_count": 190,
   "metadata": {},
   "outputs": [
    {
     "data": {
      "text/plain": [
       "Text(0.5,1,'Incongruent Histogram')"
      ]
     },
     "execution_count": 190,
     "metadata": {},
     "output_type": "execute_result"
    },
    {
     "data": {
      "image/png": "[encoded data removed]",
      "text/plain": [
       "<matplotlib.figure.Figure at 0x161f358d358>"
      ]
     },
     "metadata": {},
     "output_type": "display_data"
    }
   ],
   "source": [
    "# Incongruent colors and words histogram\n",
    "fig, ax = plt.subplots()\n",
    "sns.distplot(df['Incongruent'], color=\"orange\", kde=False)\n",
    "ax.set_xlabel(\"time\")\n",
    "ax.set_ylabel(\"count\")\n",
    "ax.set_title(\"Incongruent Histogram\")"
   ]
  },
  {
   "cell_type": "markdown",
   "metadata": {},
   "source": [
    "## Bivariate Plots"
   ]
  },
  {
   "cell_type": "code",
   "execution_count": 192,
   "metadata": {},
   "outputs": [
    {
     "data": {
      "text/plain": [
       "Text(0.5,1,'Congruent, Incongruent Boxplots')"
      ]
     },
     "execution_count": 192,
     "metadata": {},
     "output_type": "execute_result"
    },
    {
     "data": {
      "image/png": "[encoded data removed]",
      "text/plain": [
       "<matplotlib.figure.Figure at 0x161f3562630>"
      ]
     },
     "metadata": {},
     "output_type": "display_data"
    }
   ],
   "source": [
    "# Congruent and Incongruent colors and words boxplots\n",
    "fig, ax = plt.subplots()\n",
    "sns.boxplot(data=df)\n",
    "ax.set_title(\"Congruent, Incongruent Boxplots\")"
   ]
  },
  {
   "cell_type": "markdown",
   "metadata": {},
   "source": [
    "By inspecting at the boxplot, we can see that the average completion time of Incongruent group is higher. The box plot also shows that the incongruent group has two outliers."
   ]
  },
  {
   "cell_type": "code",
   "execution_count": 193,
   "metadata": {},
   "outputs": [
    {
     "data": {
      "text/plain": [
       "Text(0.5,1,'Congruent, Incongruent Distributions')"
      ]
     },
     "execution_count": 193,
     "metadata": {},
     "output_type": "execute_result"
    },
    {
     "data": {
      "image/png": "[encoded data removed]",
      "text/plain": [
       "<matplotlib.figure.Figure at 0x161f3494518>"
      ]
     },
     "metadata": {},
     "output_type": "display_data"
    }
   ],
   "source": [
    "# Congruent colors and words histograms side by side\n",
    "fig, ax = plt.subplots()\n",
    "sns.distplot( df[\"Congruent\"] , color=\"blue\", kde=False)\n",
    "sns.distplot( df[\"Incongruent\"] , color=\"orange\", kde=False)\n",
    "ax.set_xlim([0, 45])\n",
    "ax.set_xlabel(\"time\")\n",
    "ax.set_ylabel(\"count\")\n",
    "ax.set_title(\"Congruent, Incongruent Distributions\")"
   ]
  },
  {
   "cell_type": "markdown",
   "metadata": {},
   "source": [
    "The distribution for both congruent and incongruent group looks normal."
   ]
  },
  {
   "cell_type": "markdown",
   "metadata": {},
   "source": [
    "## Performing a statistical test"
   ]
  },
  {
   "cell_type": "code",
   "execution_count": 196,
   "metadata": {},
   "outputs": [
    {
     "name": "stdout",
     "output_type": "stream",
     "text": [
      "size of samples 24\n",
      "degrees of freedom: 23\n",
      "alpha level:  0.05\n",
      "t-critical value from a = 0.05 for two tailed test: 2.069\n",
      "t-statistic: 8.021\n",
      "p-value: 4e-08\n"
     ]
    }
   ],
   "source": [
    "# Performing the statistical test\n",
    "from scipy import stats\n",
    "\n",
    "n = df.Congruent.count()\n",
    "degrees_of_Freedom = n - 1\n",
    "alpha = 0.05\n",
    "print(\"size of samples\", n)\n",
    "print(\"degrees of freedom:\", degrees_of_Freedom)\n",
    "print(\"alpha level: \", alpha)\n",
    "\n",
    "t_critical = np.round(-1 * stats.t.ppf(alpha/2, degrees_of_Freedom), 3)\n",
    "print(\"t-critical value from a = 0.05 for two tailed test:\", t_critical)\n",
    "\n",
    "\n",
    "# Calculates the T-test for the two related samples of scores, a and b.\n",
    "res = stats.ttest_rel(df['Incongruent'], df['Congruent'])\n",
    "t_statistic = round(res[0], 3)\n",
    "p_value = round(res[1], 8)\n",
    "print(\"t-statistic:\", t_statistic)\n",
    "print(\"p-value:\", p_value)"
   ]
  },
  {
   "cell_type": "markdown",
   "metadata": {},
   "source": [
    "p value is far below the p value for the critical region which is 0.025 therefore, we reject the null hypothesis. Hence, we can conclude that incongruent group and congruent group has a significant difference between them and there is a different average population time to identify colors.\n",
    "\n",
    "Lets continue investigate even further this phenomenon:"
   ]
  },
  {
   "cell_type": "code",
   "execution_count": 202,
   "metadata": {},
   "outputs": [
    {
     "name": "stdout",
     "output_type": "stream",
     "text": [
      "point of interest: 7.965\n",
      "standard error: 4.865\n",
      "margin of error: 10.066\n",
      "t-statistic: 8.021\n",
      "Conffidence Interval: ( 5.91 , 10.02 )\n"
     ]
    }
   ],
   "source": [
    "## step by step computations\n",
    "\n",
    "# calculate the point of interest\n",
    "point_of_interest = np.round(df.Incongruent.mean() - df.Congruent.mean(), 3)\n",
    "print(\"point of interest:\", point_of_interest)\n",
    "\n",
    "# calculate the standard error of the difference\n",
    "std_error = np.round(np.sqrt(np.sum((df.Incongruent - df.Congruent - point_of_interest)**2)/degrees_of_Freedom), 3)\n",
    "print(\"standard error:\", std_error)\n",
    "\n",
    "# calculate the margin of error\n",
    "margin_of_error = np.round(t_critical * std_error, 3)\n",
    "print(\"margin of error:\", margin_of_error)\n",
    "\n",
    "# compute mannually the t-statistic, t = Point_of_interest/(std_error/√n)\n",
    "t_statistic_manually_computed = np.round(point_of_interest/(std_error/np.sqrt(df.Congruent.count())), 3)\n",
    "print(\"t-statistic:\", t_statistic_manually_computed)\n",
    "\n",
    "# compute the Confidence Interval\n",
    "lower_bound = np.round(point_of_interest - (t_critical * (std_error/np.sqrt(n))), 3)\n",
    "upper_bound = np.round(point_of_interest + (t_critical * (std_error/np.sqrt(n))), 3)\n",
    "print(\"Conffidence Interval: (\", lower_bound, \",\", upper_bound, \")\")\n"
   ]
  },
  {
   "cell_type": "markdown",
   "metadata": {},
   "source": [
    "After the manual computations, and here the t-statistic is 8.021 which is greater than t-critical value which is 2.069, hence we reject the null hypothesis."
   ]
  },
  {
   "cell_type": "markdown",
   "metadata": {},
   "source": [
    "## Possible Cause of Effect Observed\n",
    "I believe that sometimes for the general public is easier to identify colors written in their own name with the same color. However it is harder and very confusing to identify a color in a word that is colored with a different."
   ]
  },
  {
   "cell_type": "markdown",
   "metadata": {},
   "source": [
    "## References\n",
    "- https://en.wikipedia.org/wiki/Stroop_effect\n",
    "- https://docs.scipy.org/doc/scipy-0.14.0/reference/generated/scipy.stats.ttest_rel.html"
   ]
  }
 ],
 "metadata": {
  "kernelspec": {
   "display_name": "Python 3",
   "language": "python",
   "name": "python3"
  },
  "language_info": {
   "codemirror_mode": {
    "name": "ipython",
    "version": 3
   },
   "file_extension": ".py",
   "mimetype": "text/x-python",
   "name": "python",
   "nbconvert_exporter": "python",
   "pygments_lexer": "ipython3",
   "version": "3.6.4"
  }
 },
 "nbformat": 4,
 "nbformat_minor": 2
}
